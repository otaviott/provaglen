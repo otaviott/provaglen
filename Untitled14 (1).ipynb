{
  "nbformat": 4,
  "nbformat_minor": 0,
  "metadata": {
    "colab": {
      "provenance": []
    },
    "kernelspec": {
      "name": "python3",
      "display_name": "Python 3"
    },
    "language_info": {
      "name": "python"
    }
  },
  "cells": [
    {
      "cell_type": "code",
      "execution_count": 22,
      "metadata": {
        "colab": {
          "base_uri": "https://localhost:8080/"
        },
        "id": "f0c2Mkjo4MEg",
        "outputId": "76c1f41a-d15c-41d5-a5a0-a35ee199acf2"
      },
      "outputs": [
        {
          "output_type": "stream",
          "name": "stdout",
          "text": [
            "17ºC\n",
            "céu limpo\n"
          ]
        }
      ],
      "source": [
        "import requests\n",
        "\n",
        "api_key = \"74e7c64308c592dbe845dcb13a7f1f99\"\n",
        "cidade = \"oslo\"\n",
        "link = f\"https://api.openweathermap.org/data/2.5/weather?q={cidade}&appid={api_key}&lang=pt_br\"\n",
        "\n",
        "requisicao = requests.get(link)\n",
        "r= requisicao.json()\n",
        "description = r['weather'][0]['description']\n",
        "temperatura = round(r['main']['temp'] - 273.15)\n",
        "print(f\"{temperatura}ºC\")\n",
        "print(description)"
      ]
    }
  ]
}